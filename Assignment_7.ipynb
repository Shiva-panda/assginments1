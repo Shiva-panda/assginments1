{
  "nbformat": 4,
  "nbformat_minor": 0,
  "metadata": {
    "colab": {
      "provenance": [],
      "authorship_tag": "ABX9TyPaP0oTo1kI2fY1Tr2jDFb8",
      "include_colab_link": true
    },
    "kernelspec": {
      "name": "python3",
      "display_name": "Python 3"
    },
    "language_info": {
      "name": "python"
    }
  },
  "cells": [
    {
      "cell_type": "markdown",
      "metadata": {
        "id": "view-in-github",
        "colab_type": "text"
      },
      "source": [
        "<a href=\"https://colab.research.google.com/github/Shiva-panda/assginments1/blob/main/Assignment_7.ipynb\" target=\"_parent\"><img src=\"https://colab.research.google.com/assets/colab-badge.svg\" alt=\"Open In Colab\"/></a>"
      ]
    },
    {
      "cell_type": "code",
      "execution_count": null,
      "metadata": {
        "colab": {
          "base_uri": "https://localhost:8080/"
        },
        "id": "deuHjrEroLDZ",
        "outputId": "72234c87-db86-4793-931b-35e0d41a8ef1"
      },
      "outputs": [
        {
          "output_type": "stream",
          "name": "stdout",
          "text": [
            "Length of the string: 13\n"
          ]
        }
      ],
      "source": [
        "#What is the purpose of the len() function in Python, and how can it be used with strings?\n",
        "'''The len() function in Python is used to determine the length (i.e., the number of characters) of a given sequence or collection or\n",
        "a string . It works with various data types, including strings, lists, tuples, and dictionaries. Let’s focus on its usage with strings:\n",
        "\n",
        "Purpose of len():\n",
        "\n",
        "1.The primary purpose of len() is to find out how many elements (characters) are present in a given sequence.\n",
        "2.It returns an integer representing the length of the sequence.\n",
        "\n",
        "Usage with Strings:\n",
        "\n",
        "1.When used with strings, len() counts the number of characters (including spaces, punctuation, and special characters).\n",
        "2.Here’s how you can use len() with strings:\n",
        "EXAMPLE:'''\n",
        "my_string = \"Hello, World!\"\n",
        "length = len(my_string)\n",
        "print(f\"Length of the string: {length}\")"
      ]
    },
    {
      "cell_type": "code",
      "source": [
        " #How can you concatenate two or more strings in Python, and can you provide an example of string concatenation?\n",
        "'''Remember that string concatenation is a fundamental operation in Python,\n",
        " We can concatenate (combine) two or more strings using  two method:\n",
        "1. using  + operator\n",
        "example:'''\n",
        "\n",
        "first_name = \"ram\"\n",
        "last_name = \"sita\"\n",
        "full_name = first_name + \" \" + last_name\n",
        "print(\"Full name:\", full_name)\n",
        "\n",
        "'''2. using string formatting\n",
        "example:'''\n",
        "city = \"india that \"\n",
        "country = \"is bharat\"\n",
        "location = f\"{city} {country}\"\n",
        "print(\"Location:\", location)\n"
      ],
      "metadata": {
        "colab": {
          "base_uri": "https://localhost:8080/"
        },
        "id": "aYbvyKWlqcvf",
        "outputId": "a146799c-058c-494e-d8ff-d49e037e3f8a"
      },
      "execution_count": null,
      "outputs": [
        {
          "output_type": "stream",
          "name": "stdout",
          "text": [
            "Full name: ram sita\n",
            "Location: india that  is bharat\n"
          ]
        }
      ]
    },
    {
      "cell_type": "code",
      "source": [
        "#What is string slicing in Python, and how can you extract a portion of a string using this method?\n",
        "'''String slicing in Python allows us to extract a substring (a portion) from a given string. we can specify the starting and ending\n",
        " indices to define the slice. Syntax=  string_name[start:end:step]\n",
        "where start= is the index where the slice begins (inclusive means it is included).\n",
        "        end= is the index where the slice ends (exclusive means it is excluded).\n",
        "       step= is the index which tells how many step we've to jump each times.\n",
        "\n",
        "String Slicing is Immutable:\n",
        "Remember that string slicing creates a new string; it does not modify the original string.\n",
        "example'''\n",
        "str = \"hello , how are you\"\n",
        "print(str[: 2:4])\n",
        "print(str[:-2:4])\n",
        "print(str[:2:-4])\n",
        "print(str[:-2:-4])\n",
        "print(str[2: :8])\n",
        "print(str[-2: :8])\n",
        "print(str[2: :-8])\n",
        "print(str[-2::-8])\n",
        "print(str[2:9:])\n",
        "print(str[-2:9:])#this will not give any out put because we are not giving step index then that case the defult direction of slice is from left to right which create contradition as [-2:9:] this moves from right to left in string hello , how are you insted of writing this we can write [-2:19:]\n",
        "print(str[-2:19:])#when we move from -2 to 19 index\n",
        "print(str[-2:9:-1])#in this case as externally i given the step index so the defult direction is not considered in this casethe direction is take according to the step index in our case the index is in -ve sign so the direction is from right to left this time when we move from [-2:9] -2to 9  the direction is right to left which is same as the direction given by  our step index so this is possible if i add -ve step index in(like that [2:-9:-1]) then it is not possible step index tell the direction from right to left but we move from left to right 2 to -9 if we adjust our start and end index such a way it will move right to left then that is possible like [2:1:-1] for 2 to 1 we have to move right to left\n",
        "print(str[2:-9:-1])\n",
        "print(str[2:1:-1])\n",
        "print(str[2:-9:])\n",
        "print(str[-2:-9:])#this will not give any out put because we are not giving step index then that case the defult direction of slice is from left to right which create contradition as [-2:-9:] this moves from right to left in string hello , how are you\n",
        "print(str[-2:-1:])#this thing is possible when we move from -2 to -1 the direction is left to right and  as in slice function no step index is givven which defult direction is also left to right  so it is possible .\n",
        "print(str[-4:-13:-3])\n",
        "print(str[::])\n",
        "print(str[-14::])\n",
        "print(str[::-1])\n",
        "print(str[:-8:])"
      ],
      "metadata": {
        "colab": {
          "base_uri": "https://localhost:8080/"
        },
        "id": "OpTBGn2LtKdt",
        "outputId": "e54ef9e8-f5bc-43d6-fdad-c126232d0441"
      },
      "execution_count": 7,
      "outputs": [
        {
          "output_type": "stream",
          "name": "stdout",
          "text": [
            "h\n",
            "hohay\n",
            "uew,\n",
            "u\n",
            "lwu\n",
            "o\n",
            "l\n",
            "ooe\n",
            "llo , h\n",
            "\n",
            "ou\n",
            "oy era w\n",
            "\n",
            "l\n",
            "llo , ho\n",
            "\n",
            "o\n",
            " ao\n",
            "hello , how are you\n",
            " , how are you\n",
            "uoy era woh , olleh\n",
            "hello , how\n"
          ]
        }
      ]
    },
    {
      "cell_type": "code",
      "source": [
        "# How can you change the case of a string in Python, and can you provide examples of both making a string all uppercase and all lowercase?\n",
        "\n",
        "'''In Python, we can manipulate the case of a string using the following methods:\n",
        "\n",
        "1.Uppercase (All Caps):\n",
        "To convert a string to uppercase, use the .upper() method.\n",
        "EXAMPLE:'''\n",
        "original_string = \"hello, world!\"\n",
        "uppercase_string = original_string.upper()\n",
        "print(uppercase_string)\n",
        "'''\n",
        "2.Lowercase (All Small Letters):\n",
        "To convert a string to lowercase, use the .lower() method.\n",
        " EXAMPLE:'''\n",
        "original_string = \"Hello, World!\"\n",
        "lowercase_string = original_string.lower()\n",
        "print(lowercase_string)"
      ],
      "metadata": {
        "colab": {
          "base_uri": "https://localhost:8080/"
        },
        "id": "1zsiSUIPY3ZS",
        "outputId": "3f9cf4bd-ea05-4c79-e1c7-23b0e8394df6"
      },
      "execution_count": 8,
      "outputs": [
        {
          "output_type": "stream",
          "name": "stdout",
          "text": [
            "HELLO, WORLD!\n",
            "hello, world!\n"
          ]
        }
      ]
    },
    {
      "cell_type": "code",
      "source": [
        "# What does the split() method do in Python, and how can you split a string using a specific delimiter?\n",
        "'''The split() method splits a string into substrings using whitespace (spaces, tabs, or newlines) as the default delimiter.'''\n",
        "\n",
        "original_string = \"apple banana cherry\"\n",
        "words = original_string.split() #Splits by whitespace\n",
        "print(words)\n"
      ],
      "metadata": {
        "colab": {
          "base_uri": "https://localhost:8080/"
        },
        "id": "na9HlLVGZtBA",
        "outputId": "02aa1afa-b1fd-455a-82e0-e88d4cc5732b"
      },
      "execution_count": 9,
      "outputs": [
        {
          "output_type": "stream",
          "name": "stdout",
          "text": [
            "['apple', 'banana', 'cherry']\n"
          ]
        }
      ]
    }
  ]
}