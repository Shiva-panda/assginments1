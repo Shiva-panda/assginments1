{
  "nbformat": 4,
  "nbformat_minor": 0,
  "metadata": {
    "colab": {
      "provenance": [],
      "authorship_tag": "ABX9TyNbSUktCXyyPUlYyBVyzU8c",
      "include_colab_link": true
    },
    "kernelspec": {
      "name": "python3",
      "display_name": "Python 3"
    },
    "language_info": {
      "name": "python"
    }
  },
  "cells": [
    {
      "cell_type": "markdown",
      "metadata": {
        "id": "view-in-github",
        "colab_type": "text"
      },
      "source": [
        "<a href=\"https://colab.research.google.com/github/Shiva-panda/assginments1/blob/main/Assignment_1.ipynb\" target=\"_parent\"><img src=\"https://colab.research.google.com/assets/colab-badge.svg\" alt=\"Open In Colab\"/></a>"
      ]
    },
    {
      "cell_type": "code",
      "execution_count": 2,
      "metadata": {
        "colab": {
          "base_uri": "https://localhost:8080/"
        },
        "id": "9T5Xk_OXUR52",
        "outputId": "8e8e65dd-1612-4da5-a2e1-4f181981a016"
      },
      "outputs": [
        {
          "output_type": "stream",
          "name": "stdout",
          "text": [
            "the converted float number = 10.0\n"
          ]
        }
      ],
      "source": [
        "#convert an integer to float-point number\n",
        "num1=10\n",
        "print(\"the converted float number =\",float(num1))"
      ]
    },
    {
      "cell_type": "code",
      "source": [
        "#converting flost to an integer\n",
        "num1=10.0\n",
        "print(\"the converted integer number =\",int(num1))"
      ],
      "metadata": {
        "colab": {
          "base_uri": "https://localhost:8080/"
        },
        "id": "ZEy4_JoVUs7Z",
        "outputId": "c92363d7-7e24-49a7-eff5-9e56de16fd03"
      },
      "execution_count": 3,
      "outputs": [
        {
          "output_type": "stream",
          "name": "stdout",
          "text": [
            "the converted integer number = 10\n"
          ]
        }
      ]
    },
    {
      "cell_type": "code",
      "source": [
        "#converting integer to string\n",
        "num=65\n",
        "string_value=str(num)\n",
        "print(\"the converted string  =\",string_value,type(string_value))"
      ],
      "metadata": {
        "colab": {
          "base_uri": "https://localhost:8080/"
        },
        "id": "idaYCHkIU6Zd",
        "outputId": "bab6610f-fd9a-4bcc-b032-6ab2bb5f7c57"
      },
      "execution_count": 4,
      "outputs": [
        {
          "output_type": "stream",
          "name": "stdout",
          "text": [
            "the converted string  = 65 <class 'str'>\n"
          ]
        }
      ]
    },
    {
      "cell_type": "code",
      "source": [
        "#converting list to tuple\n",
        "the_list=[2,4,6,8,'even numbers']\n",
        "the_tuple=tuple(the_list)\n",
        "print(\"The converted tuple =\",the_tuple)"
      ],
      "metadata": {
        "colab": {
          "base_uri": "https://localhost:8080/"
        },
        "id": "lA3QzIrXVKJ4",
        "outputId": "877952fa-c0cd-4fcb-a97c-670ae6723ee8"
      },
      "execution_count": 6,
      "outputs": [
        {
          "output_type": "stream",
          "name": "stdout",
          "text": [
            "The converted tuple = (2, 4, 6, 8, 'even numbers')\n"
          ]
        }
      ]
    },
    {
      "cell_type": "code",
      "source": [
        "#converting tuple to list\n",
        "the_tuple=(2,4,6,8,'even numbers')\n",
        "the_list=list(the_tuple)\n",
        "print(\"The converted list =\",the_list)"
      ],
      "metadata": {
        "colab": {
          "base_uri": "https://localhost:8080/"
        },
        "id": "ioAE6eg3Vau0",
        "outputId": "ddbf56d5-37b8-492b-c0c4-3cf74d9388fb"
      },
      "execution_count": 7,
      "outputs": [
        {
          "output_type": "stream",
          "name": "stdout",
          "text": [
            "The converted list = [2, 4, 6, 8, 'even numbers']\n"
          ]
        }
      ]
    },
    {
      "cell_type": "code",
      "source": [
        "#Decimal to binary conversion\n",
        "num_as_decimal=10\n",
        "print(\"The decimal number in binary form is:\",bin(num_as_decimal))"
      ],
      "metadata": {
        "colab": {
          "base_uri": "https://localhost:8080/"
        },
        "id": "iPgdhlPMVk4I",
        "outputId": "bddba612-5d61-4741-ecb0-6a1e50e03b47"
      },
      "execution_count": 8,
      "outputs": [
        {
          "output_type": "stream",
          "name": "stdout",
          "text": [
            "The decimal number in binary form is: 0b1010\n"
          ]
        }
      ]
    },
    {
      "cell_type": "code",
      "source": [
        "#Converting non zero value to bollean\n",
        "non_zero_value=10\n",
        "print(\"The boolean value for non zero number:\",bool(non_zero_value))\n",
        "#for zero value\n",
        "zero_value=not 10\n",
        "print(\"the boolean form of zero value or not of non zero value is:\",zero_value)"
      ],
      "metadata": {
        "colab": {
          "base_uri": "https://localhost:8080/"
        },
        "id": "MTUwc1cRVuQz",
        "outputId": "beceb0d2-4513-4937-ba9c-5f1b2ee60a31"
      },
      "execution_count": 12,
      "outputs": [
        {
          "output_type": "stream",
          "name": "stdout",
          "text": [
            "The boolean value for non zero number: True\n",
            "the boolean form of zero value or not of non zero value is: False\n"
          ]
        }
      ]
    }
  ]
}