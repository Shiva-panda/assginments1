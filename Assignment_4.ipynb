{
  "nbformat": 4,
  "nbformat_minor": 0,
  "metadata": {
    "colab": {
      "provenance": [],
      "authorship_tag": "ABX9TyOAW3GO1tl8zE7tDXJVCgnz",
      "include_colab_link": true
    },
    "kernelspec": {
      "name": "python3",
      "display_name": "Python 3"
    },
    "language_info": {
      "name": "python"
    }
  },
  "cells": [
    {
      "cell_type": "markdown",
      "metadata": {
        "id": "view-in-github",
        "colab_type": "text"
      },
      "source": [
        "<a href=\"https://colab.research.google.com/github/Shiva-panda/assginments1/blob/main/Assignment_4.ipynb\" target=\"_parent\"><img src=\"https://colab.research.google.com/assets/colab-badge.svg\" alt=\"Open In Colab\"/></a>"
      ]
    },
    {
      "cell_type": "code",
      "execution_count": null,
      "metadata": {
        "id": "Jkdy6R2B-U7K",
        "colab": {
          "base_uri": "https://localhost:8080/"
        },
        "outputId": "b7a55c0c-9a6f-45f2-a15b-172723c928bc"
      },
      "outputs": [
        {
          "output_type": "stream",
          "name": "stdout",
          "text": [
            "numbers from 1 to 5 is:\n",
            "1\n",
            "2\n",
            "3\n",
            "4\n",
            "5\n"
          ]
        }
      ],
      "source": [
        "#printing numbers from 1 to 5 using while loop\n",
        "i=1\n",
        "print(\"numbers from 1 to 5 is:\")\n",
        "while i<=5:\n",
        "  print(i)\n",
        "  i+=1"
      ]
    },
    {
      "cell_type": "code",
      "source": [
        "#sum of  1 to 10 number using while loop\n",
        "num1=1\n",
        "sum=0\n",
        "while num1<=10:\n",
        "  sum=num1+sum\n",
        "  num1+=1\n",
        "print(\"the sum of the numbers from 1 to 10 is:\",sum)"
      ],
      "metadata": {
        "colab": {
          "base_uri": "https://localhost:8080/"
        },
        "id": "Ii0CmzDLCThO",
        "outputId": "79cded0a-3859-4784-c6cd-94037e87ef3d"
      },
      "execution_count": null,
      "outputs": [
        {
          "output_type": "stream",
          "name": "stdout",
          "text": [
            "the sum of the numbers from 1 to 10 is: 55\n"
          ]
        }
      ]
    },
    {
      "cell_type": "code",
      "source": [
        "#program for calculating factorial of given integer using for loop\n",
        "num=int(input(\"Enter a number:\"))\n",
        "factorial=1\n",
        "if num>0:\n",
        " for i in range(1,num+1):#we can do it by recrssion\n",
        "   factorial=factorial*i\n",
        " print(\"factorial of given number is:\",factorial)\n",
        "elif num==0:\n",
        " print(\"factorial of 0 is 1 \")\n",
        "else:\n",
        "  print(\"enter a valid number\")"
      ],
      "metadata": {
        "colab": {
          "base_uri": "https://localhost:8080/"
        },
        "id": "UrBHPnyVGsVD",
        "outputId": "6964dd8a-aa6c-477d-f689-17c511b4b0b7"
      },
      "execution_count": null,
      "outputs": [
        {
          "output_type": "stream",
          "name": "stdout",
          "text": [
            "Enter a number:7\n",
            "factorial of given number is: 5040\n"
          ]
        }
      ]
    },
    {
      "cell_type": "code",
      "source": [
        "#counting number of vowels in given string using for loop\n",
        "num=input(\"enter a string for which you want to count number of vowels:\")\n",
        "length=len(num)\n",
        "coun=0\n",
        "for i in range(length):\n",
        "  if (num[i]=='A' or num[i]=='a' or num[i]=='E' or num[i]=='e' or num[i]=='I' or num[i]=='i' or num[i]=='O' or num[i]=='o' or num[i]=='U' or num[i]=='u'):\n",
        "    coun+=1\n",
        "print(\"the number of vowels in the given string is:\",coun)"
      ],
      "metadata": {
        "id": "ScQPF7iVPr4s",
        "colab": {
          "base_uri": "https://localhost:8080/"
        },
        "outputId": "4a21874a-feb4-4ce4-f08d-233c74251f1f"
      },
      "execution_count": 37,
      "outputs": [
        {
          "output_type": "stream",
          "name": "stdout",
          "text": [
            "enter a string for which you want to count number of vowels:shiva\n",
            "the number of vowels in the given string is: 2\n"
          ]
        }
      ]
    },
    {
      "cell_type": "code",
      "source": [
        "#printing partten using for loop\n",
        "row=5\n",
        "for i in range(row):\n",
        "  for j in range(row):\n",
        "    if i>0 and i<row-1 and j>0 and j<row-1:  #the logic can be derived from matrix\n",
        "     print(\" \", end=' ')\n",
        "    else:\n",
        "      print(\"*\",end=' ')\n",
        "  print(\"\\r\")"
      ],
      "metadata": {
        "colab": {
          "base_uri": "https://localhost:8080/"
        },
        "id": "GIxXTeDBPyL_",
        "outputId": "26103ba5-d1fa-4f85-e7f4-f28c8892c38f"
      },
      "execution_count": 40,
      "outputs": [
        {
          "output_type": "stream",
          "name": "stdout",
          "text": [
            "* * * * * \r\n",
            "*       * \r\n",
            "*       * \r\n",
            "*       * \r\n",
            "* * * * * \r\n"
          ]
        }
      ]
    },
    {
      "cell_type": "code",
      "source": [
        "#writing a multipliction table using  for loop\n",
        "num=int(input(\"enter a number\"))\n",
        "num2=int(input(\"enter a number\"))\n",
        "for i in range(1,num):\n",
        "  for j in range(num2):\n",
        "    multipliction=i*j\n",
        "    print(f'{i}*{j}={multipliction}')\n",
        "    if j==num2-1:\n",
        "      print(\"next table is :\\r\")\n",
        "  '''ni=\"{0}*{1}={2}\"\n",
        "  print(ni.format(num,i,multipliction)) this can be done this method also'''"
      ],
      "metadata": {
        "id": "OH7d3Z0OPyo8",
        "colab": {
          "base_uri": "https://localhost:8080/"
        },
        "outputId": "c3550c1c-cf58-495a-d903-d7b496ca4c47"
      },
      "execution_count": 10,
      "outputs": [
        {
          "output_type": "stream",
          "name": "stdout",
          "text": [
            "enter a number10\n",
            "enter a number10\n",
            "1*0=0\n",
            "1*1=1\n",
            "1*2=2\n",
            "1*3=3\n",
            "1*4=4\n",
            "1*5=5\n",
            "1*6=6\n",
            "1*7=7\n",
            "1*8=8\n",
            "1*9=9\n",
            "next table is :\n",
            "2*0=0\n",
            "2*1=2\n",
            "2*2=4\n",
            "2*3=6\n",
            "2*4=8\n",
            "2*5=10\n",
            "2*6=12\n",
            "2*7=14\n",
            "2*8=16\n",
            "2*9=18\n",
            "next table is :\n",
            "3*0=0\n",
            "3*1=3\n",
            "3*2=6\n",
            "3*3=9\n",
            "3*4=12\n",
            "3*5=15\n",
            "3*6=18\n",
            "3*7=21\n",
            "3*8=24\n",
            "3*9=27\n",
            "next table is :\n",
            "4*0=0\n",
            "4*1=4\n",
            "4*2=8\n",
            "4*3=12\n",
            "4*4=16\n",
            "4*5=20\n",
            "4*6=24\n",
            "4*7=28\n",
            "4*8=32\n",
            "4*9=36\n",
            "next table is :\n",
            "5*0=0\n",
            "5*1=5\n",
            "5*2=10\n",
            "5*3=15\n",
            "5*4=20\n",
            "5*5=25\n",
            "5*6=30\n",
            "5*7=35\n",
            "5*8=40\n",
            "5*9=45\n",
            "next table is :\n",
            "6*0=0\n",
            "6*1=6\n",
            "6*2=12\n",
            "6*3=18\n",
            "6*4=24\n",
            "6*5=30\n",
            "6*6=36\n",
            "6*7=42\n",
            "6*8=48\n",
            "6*9=54\n",
            "next table is :\n",
            "7*0=0\n",
            "7*1=7\n",
            "7*2=14\n",
            "7*3=21\n",
            "7*4=28\n",
            "7*5=35\n",
            "7*6=42\n",
            "7*7=49\n",
            "7*8=56\n",
            "7*9=63\n",
            "next table is :\n",
            "8*0=0\n",
            "8*1=8\n",
            "8*2=16\n",
            "8*3=24\n",
            "8*4=32\n",
            "8*5=40\n",
            "8*6=48\n",
            "8*7=56\n",
            "8*8=64\n",
            "8*9=72\n",
            "next table is :\n",
            "9*0=0\n",
            "9*1=9\n",
            "9*2=18\n",
            "9*3=27\n",
            "9*4=36\n",
            "9*5=45\n",
            "9*6=54\n",
            "9*7=63\n",
            "9*8=72\n",
            "9*9=81\n",
            "next table is :\n"
          ]
        }
      ]
    },
    {
      "cell_type": "code",
      "source": [],
      "metadata": {
        "id": "UrFaCm6TagMw"
      },
      "execution_count": null,
      "outputs": []
    }
  ]
}