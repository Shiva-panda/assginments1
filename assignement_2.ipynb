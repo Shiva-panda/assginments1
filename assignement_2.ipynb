{
  "nbformat": 4,
  "nbformat_minor": 0,
  "metadata": {
    "colab": {
      "provenance": [],
      "authorship_tag": "ABX9TyPaqkkEQTR+mXwP4LJJPDlC",
      "include_colab_link": true
    },
    "kernelspec": {
      "name": "python3",
      "display_name": "Python 3"
    },
    "language_info": {
      "name": "python"
    }
  },
  "cells": [
    {
      "cell_type": "markdown",
      "metadata": {
        "id": "view-in-github",
        "colab_type": "text"
      },
      "source": [
        "<a href=\"https://colab.research.google.com/github/Shiva-panda/assginments1/blob/main/assignement_2.ipynb\" target=\"_parent\"><img src=\"https://colab.research.google.com/assets/colab-badge.svg\" alt=\"Open In Colab\"/></a>"
      ]
    },
    {
      "cell_type": "code",
      "execution_count": null,
      "metadata": {
        "colab": {
          "base_uri": "https://localhost:8080/"
        },
        "id": "vwwINTZ0gKrK",
        "outputId": "a84fc106-6f4b-45d0-cf2d-a69cd59e867f"
      },
      "outputs": [
        {
          "output_type": "stream",
          "name": "stdout",
          "text": [
            "The sum of two number is: 11\n",
            "Enter 1st number=3\n",
            "Enter 2nd number=3\n",
            "The 'sum' of entered two numbers is= 6.0\n"
          ]
        }
      ],
      "source": [
        "#Sum of two number with static decleration\n",
        "a=5\n",
        "b=6\n",
        "print(\"The sum of two number is:\",a+b)\n",
        "#Sum of two numbers by dynamic decleration mean using input() method\n",
        "num1=float(input(\"Enter 1st number=\"))#cosidering user can give float value also\n",
        "num2=float(input(\"Enter 2nd number=\"))\n",
        "addition=num1+num2\n",
        "print(\"The 'sum' of entered two numbers is=\",addition)"
      ]
    },
    {
      "cell_type": "code",
      "source": [
        "#Difference of two number with static decleration\n",
        "value1=400\n",
        "value2=200\n",
        "print('The \"difference\"of two number is:',value1-value2)\n",
        "#Difference of two numbers by dynamic decleration mean using input() method\n",
        "num1=float(input(\"Enter 1st number=\"))\n",
        "num2=float(input(\"Enter 2nd number=\"))\n",
        "difference=num1-num2\n",
        "print('The \"difference\" of entered two numbers is=',difference)"
      ],
      "metadata": {
        "colab": {
          "base_uri": "https://localhost:8080/"
        },
        "id": "mEL2SIc5gdrh",
        "outputId": "fb042f16-0b66-4ede-d5bd-27ae4a61445a"
      },
      "execution_count": null,
      "outputs": [
        {
          "output_type": "stream",
          "name": "stdout",
          "text": [
            "The \"difference\"of two number is: 200\n",
            "Enter 1st number=3\n",
            "Enter 2nd number=6\n",
            "The \"difference\" of entered two numbers is= -3.0\n"
          ]
        }
      ]
    },
    {
      "cell_type": "code",
      "source": [
        "#Product of two number with static decleration\n",
        "value1=4.8\n",
        "value2=4.5\n",
        "print('The \"product\"of two number is:',value1*value2)\n",
        "#Product of two numbers by dynamic decleration mean using input() method\n",
        "num1=input(\"Enter 1st number=\")\n",
        "num2=input(\"Enter 2nd number=\")\n",
        "multi=float(num1)*float(num2)#the type casting of string input is converted into integer here\n",
        "print('The \"product\" of entered two numbers is=',multi)"
      ],
      "metadata": {
        "colab": {
          "base_uri": "https://localhost:8080/"
        },
        "id": "eNsGPPl3gnhy",
        "outputId": "b1bccae5-8966-46e8-b29b-82db3a127963"
      },
      "execution_count": null,
      "outputs": [
        {
          "output_type": "stream",
          "name": "stdout",
          "text": [
            "The \"product\"of two number is: 21.599999999999998\n",
            "Enter 1st number=9\n",
            "Enter 2nd number=8\n",
            "The \"product\" of entered two numbers is= 72.0\n"
          ]
        }
      ]
    },
    {
      "cell_type": "code",
      "source": [
        "#Quotient of two number with static decleration\n",
        "num1=20\n",
        "num2=5\n",
        "print('The \"quotient\"of two number is:',num1/num2)\n",
        "#Quotient of two numbers by dynamic decleration mean using input() method\n",
        "num1=input(\"Enter 1st number=\")\n",
        "num2=input(\"Enter 2nd number=\")\n",
        "division=float(num1)/float(num2)#the type casting of string input is converted into integer here\n",
        "print('The \"quotient\" of entered two numbers is=',division)"
      ],
      "metadata": {
        "colab": {
          "base_uri": "https://localhost:8080/"
        },
        "id": "q_nFa70uhAlK",
        "outputId": "5cb125f8-3a22-4e53-f83e-04146a40ebda"
      },
      "execution_count": null,
      "outputs": [
        {
          "output_type": "stream",
          "name": "stdout",
          "text": [
            "The \"quotient\"of two number is: 4.0\n",
            "Enter 1st number=8\n",
            "Enter 2nd number=2\n",
            "The \"quotient\" of entered two numbers is= 4.0\n"
          ]
        }
      ]
    },
    {
      "cell_type": "code",
      "source": [
        "#We've assignment operator & their varition are there that are nothing but called as compund assignement\n",
        "num=5   #Normal assignment of value in a vriable\n",
        "print(num)\n",
        "num+=1  #This operation is same as 'num=num+1' and we can call it as incrementation of num by 1\n",
        "print(num)\n",
        "num-=10 #This operation is same as 'num=num-10' and we can call it as decerementation of num by 10\n",
        "print(num)\n",
        "num*=5  #This operation is same as 'num=num*5'\n",
        "print(num)\n",
        "num/=2  #This operation is same as 'num=num*2'\n",
        "print(num)\n",
        "num%=4  #This operation is same as 'num=num%4'\n",
        "print(num)\n",
        "num//3  #This operation is same as 'num=num//3'\n",
        "print(num)\n",
        "num**2  #This operation is same as 'num=num**2'\n",
        "print(num)"
      ],
      "metadata": {
        "colab": {
          "base_uri": "https://localhost:8080/"
        },
        "id": "RN5ix7h2hTxF",
        "outputId": "960db73a-6f68-46c5-e269-bb7942782c2e"
      },
      "execution_count": null,
      "outputs": [
        {
          "output_type": "stream",
          "name": "stdout",
          "text": [
            "5\n",
            "6\n",
            "-4\n",
            "-20\n",
            "-10.0\n",
            "2.0\n",
            "2.0\n",
            "2.0\n"
          ]
        }
      ]
    },
    {
      "cell_type": "code",
      "source": [
        "num1=int(input(\"Enter 1st number=\"))\n",
        "num2=int(input(\"Enter 2nd number=\"))\n",
        "if num1==num2:\n",
        "    print(num1,\" is same as \",num2)\n",
        "elif num1<num2:\n",
        "    print(num1,\" is less then \",num2)\n",
        "elif num1>num2:\n",
        "    print(num1,\" is greater than \",num2)\n",
        "elif num1<=num2:\n",
        "    print(num1,\" is less then or equal to \",num2)\n",
        "elif num1>=num2:\n",
        "    print(num1,\" is greater then or equal to \",num2)\n",
        "elif num1!=num2:\n",
        "    print(\"both numbers are not equal\")\n",
        "\n",
        "\n",
        "#we can also do like that way\n",
        "num3=int(input(\"Enter 1st number=\"))\n",
        "num4=int(input(\"Enter 2nd number=\"))\n",
        "print(\"Both numbers are same:\",num3==num4)\n",
        "print(num3,\" is less then \",num4 ,\":\" ,num3<num4)\n",
        "print(num3,\" is greater then \",num3 ,\":\",num3>num4)\n",
        "print(num3,\" is less then or equal to\",num4 ,\":\",num3<=num4)\n",
        "print(num3,\" is greater then or equal to \",num4 ,\":\",num3>=num4)\n",
        "print(\"Both numbers are different :\",num3!=num4)"
      ],
      "metadata": {
        "colab": {
          "base_uri": "https://localhost:8080/"
        },
        "id": "AZY-RZCBhbhk",
        "outputId": "25aaaead-ba98-4ccd-f3ba-6fe747c6b3e4"
      },
      "execution_count": null,
      "outputs": [
        {
          "output_type": "stream",
          "name": "stdout",
          "text": [
            "Enter 1st number=2\n",
            "Enter 2nd number=2\n",
            "2  is same as  2\n",
            "Enter 1st number=4\n",
            "Enter 2nd number=5\n",
            "Both numbers are same: False\n",
            "4  is less then  5 : True\n",
            "4  is greater then  4 : False\n",
            "4  is less then or equal to 5 : True\n",
            "4  is greater then or equal to  5 : False\n",
            "Both numbers are different : True\n"
          ]
        }
      ]
    },
    {
      "cell_type": "code",
      "source": [
        "#logical operatos are and,or,not\n",
        "a=2\n",
        "b=4\n",
        "if a<b and a**2==b:\n",
        "    print(\"'a'=\",a,\" is smaller then 'b'=\",b,\" and square of 'a'=\",a,\"is 'b'=\",b)\n",
        "else:\n",
        "    print(\"either'a'=\",a,\" is not smaller then 'b'=\",b,\" or square of 'a'=\",a,\" is not equal to 'b'=\",b,\"or both a<b and a^2==b false\")\n",
        "if a<b or sqrt(b)==a: #or operator when both the condition false then only the if condition not execute\n",
        "    print(\"either'a'=\",a,\" is smaller then 'b'=\",b, \"or square root of 'b'=\",b, \"is 'a'=\",a,\" or both a<b as as well as square root of 'b='\",b,\" is 'a'=\",a ,\"is true\")\n",
        "else:\n",
        "    print(\"nither\"\"'a'=\",a, \" is not smaller then 'b'=\",a, \" nor square root of 'b'=\",a, \" is equal to 'a'=\",a)\n",
        "if not b%3==0:\n",
        "    print(\"b=\",b,\" is not devisible by 3 \")\n",
        "else:\n",
        "    print(\"b=\",b, \" is divisible by 3\")"
      ],
      "metadata": {
        "colab": {
          "base_uri": "https://localhost:8080/"
        },
        "id": "J-SL3Dfgit6y",
        "outputId": "6ff9189f-2a3e-462f-be30-214b2004ac92"
      },
      "execution_count": null,
      "outputs": [
        {
          "output_type": "stream",
          "name": "stdout",
          "text": [
            "'a'= 2  is smaller then 'b'= 4  and square of 'a'= 2 is 'b'= 4\n",
            "either'a'= 2  is smaller then 'b'= 4 or square root of 'b'= 4 is 'a'= 2  or both a<b as as well as square root of 'b=' 4  is 'a'= 2 is true\n",
            "b= 4  is not devisible by 3 \n"
          ]
        }
      ]
    },
    {
      "cell_type": "code",
      "source": [
        "#indentity operator i.e id()\n",
        "x=5\n",
        "y=x\n",
        "z=y+x\n",
        "print(id(x))#the vale isame for x and y\n",
        "print(id(y))\n",
        "print(id(z))"
      ],
      "metadata": {
        "colab": {
          "base_uri": "https://localhost:8080/"
        },
        "id": "2JXQJeK0jmRH",
        "outputId": "fe988f4b-c434-40dc-b84a-da06872ed7f3"
      },
      "execution_count": null,
      "outputs": [
        {
          "output_type": "stream",
          "name": "stdout",
          "text": [
            "132878341423472\n",
            "132878341423472\n",
            "132878341423632\n"
          ]
        }
      ]
    },
    {
      "cell_type": "code",
      "source": [
        "#bit wise operator in python\n",
        "num1=9\n",
        "num2=3\n",
        "#bit wise and '&'\n",
        "result= num1 & num2 #the values are converted into binary then and operations performed between their coresponding bits.\n",
        "print(\"the bit wise and result is:\",result)\n",
        "#bit wise or '|'\n",
        "result1= num1 | num2  #the values are converted into binary then or operations performed between their coresponding bits.\n",
        "print(\"the bit wise or result is:\",result1)\n",
        "#bit wise not '~'\n",
        "result2= ~num2  #the values are converted into binary then 0's are converted to 1's and 1's are converted in to 0's.\n",
        "print(\"the bit wise not result is:\",result2)\n",
        "#bit wise xor'^'\n",
        "result3=num1^num2   #the values are converted into binary then xor operations performed between their coresponding bits.\n",
        "print(\"the bit wise xor result is:\",result3)\n",
        "\n",
        "#bit wise shift operator\n",
        "#left shift\n",
        "print(\"the bit wise left shift result is:\",num2<<4)\n",
        "#right shift\n",
        "print(\"the bit wise right shift result is:\",num1>>2)\n",
        "\n"
      ],
      "metadata": {
        "colab": {
          "base_uri": "https://localhost:8080/"
        },
        "id": "Ru-GGrAPjzLO",
        "outputId": "500f27fa-89f9-4fce-e3fe-8bd5cde2aff2"
      },
      "execution_count": 9,
      "outputs": [
        {
          "output_type": "stream",
          "name": "stdout",
          "text": [
            "the bit wise and result is: 1\n",
            "the bit wise or result is: 11\n",
            "the bit wise not result is: -4\n",
            "the bit wise xor result is: 10\n",
            "the bit wise left shift result is: 48\n",
            "the bit wise right shift result is: 2\n"
          ]
        }
      ]
    },
    {
      "cell_type": "code",
      "source": [
        "#unary operator -,+,~\n",
        "x=7\n",
        "y=-x #changing of sign from negative to positive\n",
        "z=+x #chaging of sign from positive to negative\n",
        "print(y)\n",
        "print(z)\n",
        "#bitwise not operator\n",
        "print(~x) #the output comes as -ve because of 2's complement and the 1st bit represented as sign bit"
      ],
      "metadata": {
        "id": "iYPBm4Q2j_az",
        "colab": {
          "base_uri": "https://localhost:8080/"
        },
        "outputId": "d677e25e-cb6d-4e15-cd12-a2d9be139459"
      },
      "execution_count": 10,
      "outputs": [
        {
          "output_type": "stream",
          "name": "stdout",
          "text": [
            "-7\n",
            "7\n",
            "-8\n"
          ]
        }
      ]
    },
    {
      "cell_type": "code",
      "source": [
        "#ternary operator\n",
        "num1 = 10\n",
        "num2 = 20\n",
        "larger_number = num1 if num1 > num2 else num2\n",
        "print(larger_number)"
      ],
      "metadata": {
        "colab": {
          "base_uri": "https://localhost:8080/"
        },
        "id": "5hWOBSJi3qCi",
        "outputId": "24a5a853-3215-423a-d905-dcaab4407150"
      },
      "execution_count": 11,
      "outputs": [
        {
          "output_type": "stream",
          "name": "stdout",
          "text": [
            "20\n"
          ]
        }
      ]
    }
  ]
}