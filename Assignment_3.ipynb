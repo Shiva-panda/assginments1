{
  "nbformat": 4,
  "nbformat_minor": 0,
  "metadata": {
    "colab": {
      "provenance": [],
      "authorship_tag": "ABX9TyNGFJUEWRDiL7139ei9A/JI",
      "include_colab_link": true
    },
    "kernelspec": {
      "name": "python3",
      "display_name": "Python 3"
    },
    "language_info": {
      "name": "python"
    }
  },
  "cells": [
    {
      "cell_type": "markdown",
      "metadata": {
        "id": "view-in-github",
        "colab_type": "text"
      },
      "source": [
        "<a href=\"https://colab.research.google.com/github/Shiva-panda/assginments1/blob/main/Assignment_3.ipynb\" target=\"_parent\"><img src=\"https://colab.research.google.com/assets/colab-badge.svg\" alt=\"Open In Colab\"/></a>"
      ]
    },
    {
      "cell_type": "code",
      "execution_count": null,
      "metadata": {
        "id": "BNO-_nOK5WbY"
      },
      "outputs": [],
      "source": []
    },
    {
      "cell_type": "code",
      "source": [
        "#significance of key words with example\n",
        "'''1.Python keywords are reserved words that have special meanings and purposes and functions in the\n",
        "language.They cannot be used as identifiers (variable names, function names, etc.) because they are\n",
        "already predefined by the language. Python keywords play a crucial role in defining the syntax and\n",
        "structure of Python programs.'''\n",
        "\n",
        "'''2.Here are five examples of Python keywords along with their significance:\n",
        "\n",
        "1.if:\n",
        " is Used for conditional statements.\n",
        "It allows branching based on whether a certain condition is true or false.'''\n",
        "\n",
        "x = 10\n",
        "if x > 5:\n",
        "   print(\"x is greater than 5\")\n",
        "\n",
        "'''2. for:\n",
        " Used for looping over a sequence (such as lists, tuples, strings, etc.) or\n",
        " an iterable object.'''\n",
        "\n",
        "for i in range(5):\n",
        "    print(i)\n",
        "\n",
        "'''3. def:\n",
        " is Used to define functions. It allows you to create reusable blocks of code that can be\n",
        "called with different inputs.'''\n",
        "\n",
        "def greet(name):\n",
        "   print(\"Hello, \" + name)\n",
        "\n",
        "'''4.return :\n",
        "is Used to return a value from a function. It specifies the result that should be passed\n",
        "back to the caller of the function.'''\n",
        "\n",
        "def add(a, b):\n",
        "    return a + b\n",
        "\n",
        "'''5.class:\n",
        " is Used to define a new class. Classes are the blueprint for creating objects,\n",
        "encapsulating data, and defining methods.'''\n",
        "\n",
        "class Car:\n",
        "    def __init__(self, brand):\n",
        "        self.brand = brand"
      ],
      "metadata": {
        "colab": {
          "base_uri": "https://localhost:8080/"
        },
        "id": "MOE7gBZt6PaG",
        "outputId": "4a839070-cc19-4550-e69b-b0116c8d5225"
      },
      "execution_count": 2,
      "outputs": [
        {
          "output_type": "stream",
          "name": "stdout",
          "text": [
            "x is greater than 5\n",
            "0\n",
            "1\n",
            "2\n",
            "3\n",
            "4\n"
          ]
        }
      ]
    },
    {
      "cell_type": "code",
      "source": [
        "#rule for writing identifiers in python\n",
        "'''In Python, identifiers are names given to variables, functions, classes, modules, etc.\n",
        "\n",
        "Rules for defining identifiers:\n",
        "1. They can contain letters (both uppercase and lowercase), digits, and underscores.\n",
        "Example:my_variable = 10;\n",
        "\n",
        "2. They must start with a letter (a-z, A-Z) or an underscore (_).\n",
        "Example:Myvriable=10;\n",
        "\n",
        "3. They cannot start with a digit (0-9).\n",
        "Example:1myvariable=10; error generate\n",
        "\n",
        "4. They are case-sensitive (e.g., myVar, MyVar, and myvar are all different identifiers).\n",
        "Example:Myvariable=10; and myvariable=10;both are different beacuse of case of the latter.\n",
        "\n",
        "5. They cannot be a reserved word or key words (e.g., if, else, for, while, etc.).\n",
        "Example:if=10; not possible'''"
      ],
      "metadata": {
        "id": "y6Tva4Ab6o_5"
      },
      "execution_count": null,
      "outputs": []
    },
    {
      "cell_type": "code",
      "source": [
        "#comments in python\n",
        "'''In Python, comments are used for explanations of code or context for human readers.\n",
        "They are ignored by the Python interpreter during execution. Comments start with the\n",
        "# symbol for single line comment but for multiple line comment we are using ''' '''.\n",
        "\n",
        "Comments are useful for:\n",
        "1.structure of code: They help explain the purpose of variables, functions,\n",
        "and sections of code, making it easier for others (or yourself in the future) to understand.\n",
        "\n",
        "2. Clarifying complex logic: Comments can break down complicated algorithms or logic into\n",
        " understandable steps.'''\n",
        "\n",
        "#Example:\n",
        "# This is a comment explaining the purpose of the variable below\n",
        "my_variable = 10\n",
        "\n",
        "# This function adds two numbers and returns the result\n",
        "def add_numbers(a, b):\n",
        "    return a + b\n",
        "\n",
        "# Example usage of the add_numbers function\n",
        "result = add_numbers(5, 7)  # This is a comment explaining what this line does\n",
        "print(\"The result is:\", result)"
      ],
      "metadata": {
        "colab": {
          "base_uri": "https://localhost:8080/"
        },
        "id": "MCTKO16n7eF8",
        "outputId": "fbb81632-720a-46a9-9429-cd14f09c7800"
      },
      "execution_count": 4,
      "outputs": [
        {
          "output_type": "stream",
          "name": "stdout",
          "text": [
            "The result is: 12\n"
          ]
        }
      ]
    },
    {
      "cell_type": "code",
      "source": [
        "#why proper indentation is important in python\n",
        "'''1.Indentation is mandatory in Python to define blocks of statements,\n",
        " ensuring code readability and logical structure.\n",
        "\n",
        "2. Block Definition: Indentation signifies the beginning and end of code blocks, such as loops,\n",
        " conditionals, functions, and classes, simplifying coding and enhancing readability.\n",
        " Defines code blocks: Unlike many other programming languages that use curly braces { },\n",
        " Python relies solely on indentation to define code blocks. Consistent indentation levels indicate\n",
        "which statements belong together within a control flow structure (if, else, for, while) or\n",
        " function definition.\n",
        "\n",
        "3.Error Prevention: Proper indentation helps prevent IndentationError and ensures the correct\n",
        "execution of Python programs, improving efficiency and reducing syntax errors.'''"
      ],
      "metadata": {
        "id": "6W0IqFTc7xnL"
      },
      "execution_count": null,
      "outputs": []
    },
    {
      "cell_type": "code",
      "source": [
        "#if indentation is not correct  then error or  unexpected behaviour will generate\n",
        "'''Indentation Errors:\n",
        "1.Misplacing gaps and spaces.\n",
        "2.Mixing tabs and spaces during coding.\n",
        "3.Failing to properly indent compound statements (e.g., for loops, while loops, and if statements).\n",
        "4.Placing indents incorrectly.\n",
        "\n",
        "Un-expected behaviour:\n",
        "Shown in some cases.'''"
      ],
      "metadata": {
        "id": "99edmp2U7_ys"
      },
      "execution_count": null,
      "outputs": []
    },
    {
      "cell_type": "code",
      "source": [
        "#difference between expression and statement\n",
        "\"\"\"In Python, expressions and statements are fundamental building blocks of code,\n",
        "but they serve distinct purposes:\n",
        "\n",
        "Expressions:\n",
        " * Evaluate to a single value.\n",
        " * Combine variables, operators, and function calls.\n",
        " * Used within statements to perform calculations .\n",
        "Examples:\n",
        " * 2 + 3 (evaluates to 5)\n",
        " * x * y (variable values multiplied)\n",
        " * my_function(a, b) (function call returning a value)\n",
        "\n",
        "Statements:\n",
        " * Perform actions according to line of code or control the flow of your program.\n",
        " * Ut do not directly produce a value.\n",
        " * Include assignment statements3, print statements, control flow statements (if, else, for, while).\n",
        "Examples:\n",
        " * x = 5 (assigns value 5 to variable x)\n",
        " * print(\"Hello, world!\") (prints the message)\n",
        " * if x > 0: print(\"Positive\") (conditional execution)\"\"\""
      ],
      "metadata": {
        "id": "Wzy1jxOM8KRd"
      },
      "execution_count": null,
      "outputs": []
    }
  ]
}