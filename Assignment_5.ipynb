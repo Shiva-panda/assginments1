{
  "nbformat": 4,
  "nbformat_minor": 0,
  "metadata": {
    "colab": {
      "provenance": [],
      "authorship_tag": "ABX9TyPcWR3vYo2JY8xZcHT3Q9wG",
      "include_colab_link": true
    },
    "kernelspec": {
      "name": "python3",
      "display_name": "Python 3"
    },
    "language_info": {
      "name": "python"
    }
  },
  "cells": [
    {
      "cell_type": "markdown",
      "metadata": {
        "id": "view-in-github",
        "colab_type": "text"
      },
      "source": [
        "<a href=\"https://colab.research.google.com/github/Shiva-panda/assginments1/blob/main/Assignment_5.ipynb\" target=\"_parent\"><img src=\"https://colab.research.google.com/assets/colab-badge.svg\" alt=\"Open In Colab\"/></a>"
      ]
    },
    {
      "cell_type": "code",
      "execution_count": 1,
      "metadata": {
        "colab": {
          "base_uri": "https://localhost:8080/"
        },
        "id": "qyklknS4TMyn",
        "outputId": "936db471-1ce5-4563-aa88-fcf455c8c33a"
      },
      "outputs": [
        {
          "output_type": "stream",
          "name": "stdout",
          "text": [
            "1\n",
            "2\n",
            "3\n",
            "4\n"
          ]
        }
      ],
      "source": [
        "#Program to print numbers from  1 to 10, but stop if the number is 5.\n",
        "for i in range(1,10):\n",
        "  if i==5:#this condition will going to stop when i will equal to 5\n",
        "    break\n",
        "  else:\n",
        "    print(i)"
      ]
    },
    {
      "cell_type": "code",
      "source": [
        "#Program to iterate through a list and stop when encountering a specific element.\n",
        "lis=[2,4,6,8,10]\n",
        "for i in lis:\n",
        "  if i==2**3: #here the list will stop when it encounter element 8 in the list insted of writing 8 directly i write it as expression\n",
        "    break\n",
        "  else:\n",
        "    print(i)"
      ],
      "metadata": {
        "colab": {
          "base_uri": "https://localhost:8080/"
        },
        "id": "003fVOYdT5Tk",
        "outputId": "fb43c6c5-097c-4505-c3c4-e85f44dfcc98"
      },
      "execution_count": 2,
      "outputs": [
        {
          "output_type": "stream",
          "name": "stdout",
          "text": [
            "2\n",
            "4\n",
            "6\n"
          ]
        }
      ]
    },
    {
      "cell_type": "code",
      "source": [
        "#Program to skip printing even numbers from 1 to 10.\n",
        "for i in range(1,11):\n",
        "  if i%2==0:#this condition is going to skip the even number from 1  to 10\n",
        "    continue\n",
        "  print(i)"
      ],
      "metadata": {
        "colab": {
          "base_uri": "https://localhost:8080/"
        },
        "id": "sqWiNRZ0VOi7",
        "outputId": "970c43a7-5e05-4c03-8b12-ee802f945f30"
      },
      "execution_count": 4,
      "outputs": [
        {
          "output_type": "stream",
          "name": "stdout",
          "text": [
            "1\n",
            "3\n",
            "5\n",
            "7\n",
            "9\n"
          ]
        }
      ]
    },
    {
      "cell_type": "code",
      "source": [
        "#program to print numbers from 0 to 9 using range().\n",
        "for i in range(10):#i will start from 0 as index of python\n",
        "  print(i,\" \")"
      ],
      "metadata": {
        "colab": {
          "base_uri": "https://localhost:8080/"
        },
        "id": "lrWOizLNV3jJ",
        "outputId": "155e483c-7f1d-4577-de51-8ce52d20b92e"
      },
      "execution_count": 5,
      "outputs": [
        {
          "output_type": "stream",
          "name": "stdout",
          "text": [
            "1  \n",
            "2  \n",
            "3  \n",
            "4  \n",
            "5  \n",
            "6  \n",
            "7  \n",
            "8  \n",
            "9  \n"
          ]
        }
      ]
    },
    {
      "cell_type": "code",
      "source": [
        "#Program to print multiplication tables from 1 to 5, but stop after the first table is printed for each\n",
        "number.\n",
        "for i in range(1,11):\n",
        "  for j in range(1,6):\n",
        "    print(f\"{j}*{i}={i*j}\",end=\"\\t\")\n",
        "  print()"
      ],
      "metadata": {
        "colab": {
          "base_uri": "https://localhost:8080/"
        },
        "id": "N_LVGtMqYKsK",
        "outputId": "df224869-599f-4ed0-ea78-aa11cb567e5e"
      },
      "execution_count": 34,
      "outputs": [
        {
          "output_type": "stream",
          "name": "stdout",
          "text": [
            "1*1=1\t2*1=2\t3*1=3\t4*1=4\t5*1=5\t\n",
            "1*2=2\t2*2=4\t3*2=6\t4*2=8\t5*2=10\t\n",
            "1*3=3\t2*3=6\t3*3=9\t4*3=12\t5*3=15\t\n",
            "1*4=4\t2*4=8\t3*4=12\t4*4=16\t5*4=20\t\n",
            "1*5=5\t2*5=10\t3*5=15\t4*5=20\t5*5=25\t\n",
            "1*6=6\t2*6=12\t3*6=18\t4*6=24\t5*6=30\t\n",
            "1*7=7\t2*7=14\t3*7=21\t4*7=28\t5*7=35\t\n",
            "1*8=8\t2*8=16\t3*8=24\t4*8=32\t5*8=40\t\n",
            "1*9=9\t2*9=18\t3*9=27\t4*9=36\t5*9=45\t\n",
            "1*10=10\t2*10=20\t3*10=30\t4*10=40\t5*10=50\t\n"
          ]
        }
      ]
    },
    {
      "cell_type": "code",
      "source": [
        "#Program to skip printing even numbers using a while loop.\n",
        "num=int(input(\"Enter a number up to which you want to skip even numbers \"))\n",
        "i=0\n",
        "while i<num:\n",
        "  if i%2==0:\n",
        "    i+=1\n",
        "    continue\n",
        "  print(i)\n",
        "  i+=1"
      ],
      "metadata": {
        "colab": {
          "base_uri": "https://localhost:8080/"
        },
        "id": "eqRXIrv3bbSp",
        "outputId": "db164a8e-91a1-41e9-aeac-c8276c50ab50"
      },
      "execution_count": 36,
      "outputs": [
        {
          "output_type": "stream",
          "name": "stdout",
          "text": [
            "Enter a number up to which you want to skip even numbers 20\n",
            "1\n",
            "3\n",
            "5\n",
            "7\n",
            "9\n",
            "11\n",
            "13\n",
            "15\n",
            "17\n",
            "19\n"
          ]
        }
      ]
    }
  ]
}