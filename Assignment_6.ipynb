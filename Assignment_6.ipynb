{
  "nbformat": 4,
  "nbformat_minor": 0,
  "metadata": {
    "colab": {
      "provenance": [],
      "authorship_tag": "ABX9TyMoqe/xs1pB3QTPZML1UR4Y",
      "include_colab_link": true
    },
    "kernelspec": {
      "name": "python3",
      "display_name": "Python 3"
    },
    "language_info": {
      "name": "python"
    }
  },
  "cells": [
    {
      "cell_type": "markdown",
      "metadata": {
        "id": "view-in-github",
        "colab_type": "text"
      },
      "source": [
        "<a href=\"https://colab.research.google.com/github/Shiva-panda/assginments1/blob/main/Assignment_6.ipynb\" target=\"_parent\"><img src=\"https://colab.research.google.com/assets/colab-badge.svg\" alt=\"Open In Colab\"/></a>"
      ]
    },
    {
      "cell_type": "code",
      "execution_count": null,
      "metadata": {
        "id": "kn4dZkd_icX5"
      },
      "outputs": [],
      "source": [
        "#Why might you choose a deque from the collections module to implement a queue instead of using a regular Python list?\n",
        "'''using of queue instead of using a regular Python list:\n",
        "\n",
        "1. Efficient Insertions and Deletions: From both ends deques provide efficient insertion and deletion operations ,which makes the queue good for\n",
        " operations like enqueueing and dequeueing elements.list also have such operation but is not efficient like queue.\n",
        "\n",
        "2. Constant Time Complexity: Lists may have variable time complexity, especially for insertions and deletions at the beginning at the same time\n",
        " Deques have constant time complexity O(1) for append and pop operations at both ends.Which makes queue efficient as well.\n",
        "\n",
        "3. Performance: Deques are optimized for enque & dequeue  operations and they  gives  better performance compared to lists,\n",
        " when there are large number of  insertions and deletions operation are there in large dataset.\n",
        "\n",
        "4. Memory Efficiency: Deques consume less memory  compared to lists,so memory overhead is hingh in list compare to queue\n",
        " so can be beneficial while  working  in memory-constrained environments.\n",
        "\n",
        "5. Flexibility: Deques can be used for various data structures and algorithms beyond queues, such as stacks,\n",
        " double-ended queues, and more, providing flexibility in designing and implementing different types of data structures.'''"
      ]
    },
    {
      "cell_type": "code",
      "source": [
        "# Can you explain a real-world scenario where using a stack would be a more practical choice than a list for data storage and retrieval?\n",
        "'''A classic real-world example :-\n",
        " #1. Stack in action is the undo/redo functionality in various software programs.Imagine a  editor where  we  want to track changes\n",
        "  which is done to our  document.\n",
        " #2. A list would be bulcky here because we  frequently  keep adding new edits to the end of the list.\n",
        "  Retrieving the previous state would involve going back through the entire list.\n",
        " #3. A stack, on the other hand, perfectly adheres to the LIFO (Last-In-First-Out) principle. Each new edit is pushed onto the stack. Undoing an action simply involves popping the last edit (the most recent one) off the stack, effectively reversing the change.\n",
        "This LIFO approach makes stacks ideal for situations where you need to efficiently track and revert to previous states.'''"
      ],
      "metadata": {
        "id": "DXZng2mqjmZp"
      },
      "execution_count": null,
      "outputs": []
    },
    {
      "cell_type": "code",
      "source": [
        "# What is the primary advantage of using sets in Python, and in what type of problem-solving scenarios are they most useful?\n",
        "\"\"\"Scenario: Undoing actions in a basic or advance  editor like it can be text editor ,image ...etc.\n",
        "\n",
        "Explanation:\n",
        "- In text editing software, users often make various changes to a document such as typing, deleting, or formatting text.\n",
        "    These changes need to be recorded so that users can revert them if needed.\n",
        "- The undo feature allows users to reverse their recent actions, restoring the document to its previous state.\n",
        "    This is crucial for correcting mistakes or reverting unwanted changes.\n",
        "\n",
        "WHY STACK IS BATTER THEN LIST  :--\n",
        "\n",
        "1.LIFO PRINCIPLE\n",
        "   - Actions performed by the user are stored in a stack data structure.\n",
        "   - Each action (e.g., typing a character, deleting a word) is pushed onto the stack as it occurs.\n",
        "   - When the user initiates an undo operation, the most recent action (top of the stack) is popped off and reversed,\n",
        "      effectively undoing the last action.\n",
        "\n",
        "2.SIMPLICITY\n",
        "   - Stacks facilitate a straightforward approach to managing undo operations.\n",
        "   - Only the top element of the stack needs to be considered for undoing actions, simplifying the process compared to other data structures.\n",
        "\n",
        "3.EFFICIENCY\n",
        "   - Adding and removing elements from a stack are constant time operations (O(1)).\n",
        "   - This ensures that undo/redo actions are quick and responsive, even for large documents with numerous edits.\n",
        "\n",
        "\n",
        "WHY LIST IS NOT IDEAL  :--\n",
        "\n",
        "1.COMPLEX UNDO LOGIC:\n",
        "   - Lists allow random access to elements, but managing undo operations with a list would be more complex.\n",
        "   - Undoing actions would involve tracking the position of the most recent edit within the list and potentially shifting or\n",
        "      removing elements, leading to inefficiency.\n",
        "\n",
        "2.RANDOM ACCSES OVERHEAD\n",
        "   - While lists enable accessing any element, the undo feature only requires access to the most recent edits.\n",
        "   - Using a list would introduce unnecessary overhead for random access, which is not required for undo operations.\n",
        "\n",
        "the LIFO nature of text editor undo/redo actions works perfectly with the functionality of a stack,\n",
        "making it a more practical and efficient choice compared to a list for this specific scenario.\"\"\""
      ],
      "metadata": {
        "id": "1xVYjwuxjrDg"
      },
      "execution_count": null,
      "outputs": []
    },
    {
      "cell_type": "code",
      "source": [
        "# When might you choose to use an array instead of a list for storing numerical data in Python? What benefits do arrays offer in this context?\n",
        "'''ANSWER OF WHEN TO USE ARRAY  IN BASIC FORM\n",
        "#1. list= when we want to store non-homogeneous data\n",
        "example:'''\n",
        "fruits = [\"apple\", \"banana\", \"orange\"]\n",
        "\n",
        "'''#2. array= when we want to store homogeneous data at that time basically used but there othrer resons or benifit which i discussed in bellow for that\n",
        "reson also we are using array.\n",
        " example:'''\n",
        "import array as arr\n",
        "numbers = arr.array('i', [10, 20, 30])\n",
        "\n",
        "'''BENIFITS OF USING ARRAY\n",
        "\n",
        "1. Memory Efficiency:\n",
        "   - Arrays store data in a contiguous block of memory, consuming less memory compared to lists.\n",
        "   - This is advantageous for large datasets as it reduces memory overhead and improves overall memory efficiency.\n",
        "\n",
        "2. Performance:\n",
        "   - Arrays offer better performance for numerical computations and operations.\n",
        "   - They provide efficient memory access patterns and support arithmetic operations, leading to faster computations,\n",
        "     especially with large datasets.\n",
        "\n",
        "3. Typed Data:\n",
        "   - Arrays enforce a specific data type for their elements, such as integers or floating-point numbers.\n",
        "   - This ensures data integrity and prevents unexpected type errors, which is crucial for numerical calculations where\n",
        "      data type consistency is important.\n",
        "\n",
        "4. Interoperability:\n",
        "   - Arrays are compatible and interoperable with other libraries and tools used for numerical computation and data analysis,\n",
        "     such as NumPy and pandas.\n",
        "   - These libraries often expect or return array-like objects, making arrays a natural choice for seamless integration into\n",
        "      numerical computing workflows."
      ],
      "metadata": {
        "id": "nYWkiYJpjvuA"
      },
      "execution_count": null,
      "outputs": []
    },
    {
      "cell_type": "code",
      "source": [
        " #In Python, what's the primary difference between dictionaries and lists, and how does this difference impact their use cases in programming?\n",
        "''' Lists:\n",
        "1.A list is an ordered collection of elements.\n",
        "2.Elements in a list are indexed by their position (starting from 0).\n",
        "3.Lists can contain duplicate values.\n",
        "4.The syntax for creating a list is to enclose elements in square brackets ([]).\n",
        "Example:'''\n",
        "fruits = [\"apple\", \"banana\", \"orange\"]\n",
        "\n",
        "'''Dictionaries:\n",
        "1.A dictionary is an unordered collection of key-value pairs.\n",
        "2.Each element in a dictionary consists of a key and its corresponding value.\n",
        "3.Keys must be unique and immutable (e.g., strings, numbers, or tuples).\n",
        "4.Values can be of any data type (strings, numbers, lists, other dictionaries, etc.).\n",
        "5.The syntax for creating a dictionary is to enclose key-value pairs in curly braces ({}).\n",
        "Example:'''\n",
        "person = {\"name\": \"Alice\", \"age\": 30, \"city\": \"New York\"}\n",
        "'''Use Cases:\n",
        "\n",
        "Lists:\n",
        "\n",
        "1.Use lists when you need an ordered collection of items.\n",
        "2.Common use cases include storing multiple values of the same type (e.g., a list of numbers, names, or dates).\n",
        "3.Lists are suitable for scenarios where the order matters (e.g., maintaining a history of actions).\n",
        "\n",
        "Dictionaries:\n",
        "\n",
        "1.Use dictionaries when you need to associate values with specific keys.\n",
        "2.Common use cases include:\n",
        "3.Storing configuration settings (key-value pairs).\n",
        "3.Representing real-world entities (e.g., a person’s attributes: name, age, address).\n",
        "4.Efficiently looking up values based on keys (fast retrieval).\n",
        "5.Grouping related information together.\n",
        "\n",
        "Performance Considerations:\n",
        "\n",
        "Lists:\n",
        "\n",
        "1.Accessing elements by index is fast (O(1)).\n",
        "2.Searching for an element by value is slower (O(n)).\n",
        "3.Appending or removing elements at the end is efficient.\n",
        "Dictionaries:\n",
        "\n",
        "1.Accessing values by key is fast (O(1)).\n",
        "2.Dictionaries are optimized for key-based lookups.\n",
        "3.Insertion and deletion of key-value pairs are also efficient\n",
        "'''"
      ],
      "metadata": {
        "id": "aDE0S40Rj4G6"
      },
      "execution_count": null,
      "outputs": []
    }
  ]
}